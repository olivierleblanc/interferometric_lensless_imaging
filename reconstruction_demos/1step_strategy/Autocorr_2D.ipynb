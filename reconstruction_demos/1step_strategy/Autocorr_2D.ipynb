{
 "cells": [
  {
   "cell_type": "code",
   "execution_count": 1,
   "metadata": {},
   "outputs": [],
   "source": [
    "\"\"\"\n",
    "    Copyright (c) 2021 Olivier Leblanc\n",
    "\n",
    "    Permission is hereby granted, free of charge, to any person obtaining\n",
    "    a copy of this software and associated documentation files (the \"Software\"),\n",
    "    to deal in the Software without restriction, including without limitation\n",
    "    the rights to use, copy, modify, merge, publish, distribute, and to permit\n",
    "    persons to whom the Software is furnished to do so.\n",
    "    However, anyone intending to sublicense and/or sell copies of the Software\n",
    "    will require the official permission of the author.\n",
    "    ----------------------------------------------------------------------------\n",
    "\n",
    "    Author : Olivier Leblanc\n",
    "    Date : 09/11/2021\n",
    "\n",
    "    Code description :\n",
    "    __________________\n",
    "    Generates sparse image (2D object) and recover it \n",
    "    by solving an inverse problem from rank-one projections.\n",
    "\n",
    "    Important note: the observations made here are not diagless, but the reconstruction\n",
    "    still works cause they are not far, in the sense that the mean of the object is close \n",
    "    to 0.\n",
    "\"\"\"\n",
    "\n",
    "import matplotlib.pyplot as plt\n",
    "import numpy as np\n",
    "from pyunlocbox import functions, solvers\n",
    "import imageio\n",
    "import pywt\n",
    "\n",
    "import sys, os\n",
    "def updir(d, n):\n",
    "  for _ in range(n):\n",
    "    d = os.path.dirname(d)\n",
    "  return d\n",
    "sys.path.append(os.path.join(updir(os.getcwd(), 2),'utils'))\n",
    "\n",
    "from interferometric_lensless_imaging import * # ROP projectors, rmdiag,...\n",
    "from functions import snr\n",
    "from graphics import set_plot_params, subplot_axs, labels\n",
    "from shepp_logan import phantom\n",
    "set_plot_params() # Set the plot params"
   ]
  },
  {
   "cell_type": "markdown",
   "metadata": {},
   "source": [
    "With the following change of variables:\n",
    "\\begin{equation*}\n",
    "    \\left\\{ \\begin{array}{ll}\n",
    "    a &= l+mN \\\\\n",
    "    b &= l'+m'N\n",
    "    \\end{array} \\right. ~~ \\& ~~\n",
    "    \\left\\{ \\begin{array}{llll}\n",
    "    l &= /a/_N \\\\\n",
    "    m &= (a-l)/N \\\\\n",
    "    l' &= /b/_N \\\\\n",
    "    m' &= (b-l')/N \\\\\n",
    "    \\end{array} \\right.\n",
    "\\end{equation*}\n",
    "\n",
    "We obtained the following observation model :\n",
    "\\begin{equation*}\n",
    "    \\boldsymbol{y} = \\boldsymbol{\\beta}^* \\tilde{\\boldsymbol{J}} \\boldsymbol{\\beta}\n",
    "\\end{equation*} \n",
    "\n",
    "with: \n",
    "\\begin{equation*}\n",
    "    \\left( \\tilde{J}_{a,b} \\right)_{a,b=0}^{N^2-1} \n",
    "    = \\iint_{\\mathcal{D}}~e^{i 2\\pi \n",
    "    \\left( [l',m']-[l,m] \\right)^T \\boldsymbol{x}} f(\\boldsymbol{x}) \n",
    "    d\\boldsymbol{x}\n",
    "\\end{equation*} \n",
    "a block-circulant matrix. <br>\n",
    "\n",
    "We have also seen that : \n",
    "\\begin{equation*}\n",
    "    \\langle \\boldsymbol{P},U(\\boldsymbol{M}) \\rangle_{\\mathbb{C}^{N^2\\times N^2}} = \n",
    "    \\langle U^*(\\boldsymbol{P}), \\boldsymbol{M} \\rangle_{\\mathbb{C}^{N\\times N}} = \\langle \\boldsymbol{B} * \\overline{\\boldsymbol{B}}, \\boldsymbol{M} \\rangle_{\\text{F}}  \n",
    "\\end{equation*}\n",
    "\n",
    "Where $\\boldsymbol{P}= \\boldsymbol{\\beta \\beta}^*$ is a rank-one matrix serving as projector for the ROPs, $\\overline{\\boldsymbol{\\beta}}$ is the flipped version of $\\boldsymbol{\\beta}$ ($\\beta_{j}=\\overline{\\beta}_{-j}$), $\\boldsymbol{B} = \\text{reshape}(\\boldsymbol{\\beta})$ and $\\boldsymbol{M}$ is the matrix generating the block-circulant matrix $U(\\boldsymbol{M})$, here the vectorized matrix is found in the first column of $U(\\boldsymbol{M})$. <br>\n",
    "\n",
    "We end up with: \n",
    "\\begin{equation*}\n",
    "    \\boldsymbol{y} = \\left\\{ y \\right\\}_{m=1}^M = \\left\\{ \\langle \\boldsymbol{B}_m * \\overline{\\boldsymbol{B}}_m, \\boldsymbol{F}_{2D} \\boldsymbol{f} \\rangle_{\\text{F}}  \\right\\}_{m=1}^M + \\boldsymbol{n} \\\\\n",
    "\\end{equation*}\n",
    "\n",
    "where $*$ is the convolution operator, and $\\boldsymbol{F}_{2D}$ is the linear operator applying 2D Fourier transform. <br>\n",
    "\n",
    "We consider the following inverse problem for a sparse 2D object $\\boldsymbol{f}$: <br>\n",
    "\\begin{equation*}\n",
    "    \\hat{\\boldsymbol{f}} = \\text{argmin}_{\\boldsymbol{f}}~\\frac{1}{2} \\lVert \\left\\{ \\langle \\boldsymbol{B}_m * \\overline{\\boldsymbol{B}}_m, \\boldsymbol{F}_{2D} \\boldsymbol{f} \\rangle_{\\text{F}}  \\right\\}_{m=1}^M - \\boldsymbol{y} \\rVert_2^2 + \\lambda \\lVert \\boldsymbol{f} \\rVert_1 \n",
    "\\end{equation*}\n"
   ]
  },
  {
   "cell_type": "markdown",
   "metadata": {},
   "source": [
    "The vector $\\boldsymbol{\\beta}$ is given by: \n",
    "\n",
    "\\begin{equation*}\n",
    "    \\boldsymbol{\\beta} = \n",
    "    \\sum_{k=1}^Q \\alpha_k \\boldsymbol{e}_{p_k}\n",
    "\\end{equation*}\n",
    "\n",
    "where $\\boldsymbol{\\alpha} \\in \\mathbb{C}^Q$ contains the complex amplitudes of the light emitted by each of the $Q$ cores, and $\\boldsymbol{e}_{2D,p_k}$ is the index position of core $k$ in the 2D space. The complex amplitudes are i.i.d as $\\alpha_{ij} \\sim \\mathcal{N}(0,1)$ \n"
   ]
  },
  {
   "cell_type": "code",
   "execution_count": 4,
   "metadata": {},
   "outputs": [
    {
     "name": "stderr",
     "output_type": "stream",
     "text": [
      "<ipython-input-4-e8349360fc78>:7: DeprecationWarning: Starting with ImageIO v3 the behavior of this function will switch to that of iio.v3.imread. To keep the current behavior (and make this warning disappear) use `import imageio.v2 as imageio` or call `imageio.v2.imread` directly.\n",
      "  usaf = imageio.imread(os.path.join(updir(os.getcwd(),2), \"images/usaf.jpg\"))[:,:,0] / 255.\n"
     ]
    },
    {
     "data": {
      "image/png": "[encoded data removed]",
      "text/plain": [
       "<Figure size 576x288 with 3 Axes>"
      ]
     },
     "metadata": {
      "needs_background": "light"
     },
     "output_type": "display_data"
    }
   ],
   "source": [
    "N = 64 # image sidelength\n",
    "K = 5 # sparsity\n",
    "Q = 120 # Number of cores\n",
    "M = 180 # Number of measurements\n",
    "\n",
    "\"Define the sparse object\"\n",
    "usaf = imageio.imread(os.path.join(updir(os.getcwd(),2), \"images/usaf.jpg\"))[:,:,0] / 255.\n",
    "usaf = 1*(usaf>254) # make the image binary\n",
    "\n",
    "pos_x = np.random.randint(0, high=N, size=K)\n",
    "pos_y = np.random.randint(0, high=N, size=K)\n",
    "f = np.zeros((N,N))\n",
    "for i in range(K):\n",
    "    f[pos_x[i], pos_y[i]] = (-1)**i\n",
    "\n",
    "f_flat = f.reshape(-1)\n",
    "\n",
    "\"Fermat spiral\"\n",
    "diam_endo = np.sqrt(2)*(N/2) # Must be N for coherency between image resolution and cores distances\n",
    "# diam_endo = N//2\n",
    "pos_sources = LE_cores (diam_endo, Q, sources_shape = 'fermat')\n",
    "pos_inds = np.round((pos_sources+diam_endo/2)*N/diam_endo).astype(int) # convert sources positions to indices in R^(NxN) space.\n",
    "\n",
    "\"Define Om = {p_j - p_k, j,k \\in [Q]}\"\n",
    "Om_x = np.subtract.outer(pos_inds[0,:], pos_inds[0,:]).astype(int)\n",
    "Om_y = np.subtract.outer(pos_inds[1,:], pos_inds[1,:]).astype(int)\n",
    "\n",
    "\"Compute the multiplicity of each frequency\"\n",
    "multiplicities = ind_multiplicity(Om_x, Om_y)\n",
    "\"Compute the interferometric matrix\" \n",
    "IntM = S_Om(T(f), Om_x, Om_y, mult_mat=multiplicities)\n",
    "\n",
    "a_ij = (np.random.randn(M,Q)+1j*np.random.randn(M,Q))/np.sqrt(2)\n",
    "\n",
    "\"Plots\"\n",
    "fig = plt.figure(figsize=(8,4))\n",
    "axs = subplot_axs(fig, 1,2)\n",
    "im0 = axs[0].contourf(np.abs(f), cmap='viridis')\n",
    "axs[0].invert_yaxis()\n",
    "axs[0].set_title('Sparse image $f$')\n",
    "fig.colorbar(im0, ax=axs[0])\n",
    "theta = np.linspace(0,2*np.pi,50)\n",
    "axs[1].plot(diam_endo/2*np.cos(theta), diam_endo/2*np.sin(theta), 'k', label='Borders')\n",
    "axs[1].axis('equal')\n",
    "cores = axs[1].scatter(pos_sources[0], pos_sources[1], marker='o', label='Sources', s = 15)\n",
    "labels(axs[1], r'Cores distribution', '$x$', '$y$')\n",
    "plt.show()"
   ]
  },
  {
   "cell_type": "code",
   "execution_count": 5,
   "metadata": {},
   "outputs": [
    {
     "data": {
      "image/png": "[encoded data removed]",
      "text/plain": [
       "<Figure size 288x216 with 2 Axes>"
      ]
     },
     "metadata": {
      "needs_background": "light"
     },
     "output_type": "display_data"
    },
    {
     "name": "stdout",
     "output_type": "stream",
     "text": [
      "SNR: 21.41 dB\n"
     ]
    }
   ],
   "source": [
    "SNR_target = 70\n",
    "opt_tol =  np.linalg.norm(f)*10**(-SNR_target/20)\n",
    "bpalg = lambda A, b: spgl1.spg_bp(A, b, opt_tol=opt_tol)\n",
    "\n",
    "A_ROP2 = ROP_model2(Om_x, Om_y, a_ij, N)\n",
    "y_ROP = A_ROP2@f_flat\n",
    "recovery = bpalg(A_ROP2, y_ROP)\n",
    "x_ROP = recovery[0].reshape((N,N))\n",
    "\n",
    "plt.figure(figsize=(4,3))\n",
    "plt.imshow(x_ROP, cmap='viridis')\n",
    "plt.colorbar()\n",
    "plt.show()\n",
    "\n",
    "print('SNR: {:.2f} dB'.format(snr(f, x_ROP)) )"
   ]
  },
  {
   "cell_type": "code",
   "execution_count": 6,
   "metadata": {},
   "outputs": [
    {
     "name": "stdout",
     "output_type": "stream",
     "text": [
      "(K,M, trial) = (2,300,0)\n",
      "57.878585933548365\n",
      "(K,M, trial) = (4,300,0)\n",
      "54.52425399337617\n",
      "(K,M, trial) = (6,300,0)\n",
      "26.04200405908721\n",
      "(K,M, trial) = (8,300,0)\n",
      "50.18900231306334\n",
      "(K,M, trial) = (10,300,0)\n",
      "53.03315059185511\n",
      "(K,M, trial) = (12,300,0)\n",
      "49.36654686063989\n",
      "(K,M, trial) = (14,300,0)\n",
      "20.501031192814757\n",
      "(K,M, trial) = (16,300,0)\n",
      "16.372926816717523\n",
      "(K,M, trial) = (18,300,0)\n",
      "12.94157217530558\n",
      "(K,M, trial) = (20,300,0)\n",
      "11.340106532860865\n"
     ]
    },
    {
     "data": {
      "image/png": "[encoded data removed]",
      "text/plain": [
       "<Figure size 432x216 with 2 Axes>"
      ]
     },
     "metadata": {
      "needs_background": "light"
     },
     "output_type": "display_data"
    }
   ],
   "source": [
    "Ks = np.arange(2, 22, 2).astype(int)\n",
    "# Ms = np.round(30+Ks*np.log(np.exp(1)*N**2/Ks)).astype(int)\n",
    "M = 300\n",
    "n_trials = 1\n",
    "\n",
    "SNR_target = 50\n",
    "\n",
    "errors = np.zeros((n_trials, len(Ks)))\n",
    "SNRs = np.zeros( (n_trials, len(Ks)))\n",
    "\n",
    "for j, K in enumerate(Ks):\n",
    "    for n in range(n_trials):\n",
    "        # M = Ms[j]\n",
    "        print('(K,M, trial) = ({},{},{})'.format(K,M,n))\n",
    "\n",
    "        pos_x = np.random.randint(0, high=N, size=K)\n",
    "        pos_y = np.random.randint(0, high=N, size=K)\n",
    "        f = np.zeros((N,N))\n",
    "        for i in range(K):\n",
    "            f[pos_x[i], pos_y[i]] = (-1)**i\n",
    "        f_flat = f.reshape(-1)\n",
    "\n",
    "        a_ij = (np.random.randn(M,Q)+1j*np.random.randn(M,Q))/np.sqrt(2)\n",
    "\n",
    "        opt_tol =  np.linalg.norm(f)*10**(-SNR_target/20)\n",
    "        bpalg = lambda A, b: spgl1.spg_bp(A, b, opt_tol=opt_tol)\n",
    "\n",
    "        A_ROP2 = ROP_model2(Om_x, Om_y, a_ij, N)\n",
    "        y_ROP = A_ROP2@f_flat\n",
    "        recovery = bpalg(A_ROP2, y_ROP)\n",
    "        x_ROP = recovery[0].reshape((N,N))\n",
    "\n",
    "        errors[n,j] = np.linalg.norm(f-x_ROP, 1)/np.sqrt(K)\n",
    "        SNRs[n,j] = snr(f, x_ROP)\n",
    "        print(\"SNR: {:.2f}dB\".format(SNRs[n,j]))\n",
    "\n",
    "\"Plot\"\n",
    "fig = plt.figure(figsize=(6,3))\n",
    "ax1 = fig.add_axes([0.05, 0.05, 0.38, 0.9])\n",
    "ax2 = fig.add_axes([0.6, 0.05, 0.38, 0.9])\n",
    "ax1.plot(Ks, np.mean(errors,axis=0), 'b')\n",
    "ax1.set_xlabel('K')\n",
    "ax1.set_ylabel(r'$\\frac{ ||f-\\hat{f}_K||_1}{\\sqrt{K}}$')\n",
    "ax2.plot(Ks, np.mean(SNRs, axis=0), 'b')\n",
    "ax2.set_xlabel('K')\n",
    "ax2.set_ylabel('SNR')\n",
    "plt.show()"
   ]
  }
 ],
 "metadata": {
  "kernelspec": {
   "display_name": "Python 3.8.8 ('base')",
   "language": "python",
   "name": "python3"
  },
  "language_info": {
   "codemirror_mode": {
    "name": "ipython",
    "version": 3
   },
   "file_extension": ".py",
   "mimetype": "text/x-python",
   "name": "python",
   "nbconvert_exporter": "python",
   "pygments_lexer": "ipython3",
   "version": "3.8.8"
  },
  "orig_nbformat": 4,
  "vscode": {
   "interpreter": {
    "hash": "46df200377d403be22c796785365123e6a374b5da08e8292e6b2afda659c5a28"
   }
  }
 },
 "nbformat": 4,
 "nbformat_minor": 2
}
