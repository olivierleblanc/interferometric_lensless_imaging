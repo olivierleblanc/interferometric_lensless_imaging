{
 "cells": [
  {
   "cell_type": "code",
   "execution_count": 1,
   "metadata": {},
   "outputs": [],
   "source": [
    "\"\"\"\n",
    "    Copyright (c) 2021 Olivier Leblanc\n",
    "\n",
    "    Permission is hereby granted, free of charge, to any person obtaining\n",
    "    a copy of this software and associated documentation files (the \"Software\"),\n",
    "    to deal in the Software without restriction, including without limitation\n",
    "    the rights to use, copy, modify, merge, publish, distribute, and to permit\n",
    "    persons to whom the Software is furnished to do so.\n",
    "    However, anyone intending to sublicense and/or sell copies of the Software\n",
    "    will require the official permission of the author.\n",
    "    ----------------------------------------------------------------------------\n",
    "\n",
    "    Author : Olivier Leblanc\n",
    "    Date : 04/05/2022\n",
    "\n",
    "    Code description :\n",
    "    __________________\n",
    "    Generates sparse object in various bases and recover it \n",
    "    by solving an inverse problem from rank-one projections.\n",
    "    This file aims to numerically compare the link between the sparsity prior and reconstruction quality regarding the parameters setting.\n",
    "    The numerical solver is Basis Pursuit (BP) or denoiser extensions from SPGL1 toolbox.\n",
    "\"\"\"\n",
    "import matplotlib.pyplot as plt\n",
    "import numpy as np\n",
    "from pyunlocbox import functions, solvers, acceleration\n",
    "import pywt\n",
    "import spgl1\n",
    "\n",
    "import sys, os\n",
    "def updir(d, n):\n",
    "  for _ in range(n):\n",
    "    d = os.path.dirname(d)\n",
    "  return d\n",
    "sys.path.append(os.path.join(updir(os.getcwd(),3),'utils'))\n",
    "\n",
    "from interferometric_lensless_imaging import * # ROP projectors, rmdiag,...\n",
    "# set_plot_params() # Set the plot params\n",
    "from IHT import IHT\n",
    "from utils_wavelet import *\n",
    "from functions import *"
   ]
  },
  {
   "cell_type": "code",
   "execution_count": 2,
   "metadata": {},
   "outputs": [],
   "source": [
    "def plotrec(x, x_hat):\n",
    "    plt.figure()\n",
    "    plt.plot(x, 'o', label='Original')\n",
    "    plt.plot(x_hat, 'xr', label='Reconstructed')\n",
    "    plt.grid(True)\n",
    "    plt.title('Achieved reconstruction')\n",
    "    plt.legend(numpoints=1)\n",
    "    plt.xlabel('Signal dimension number')\n",
    "    plt.ylabel('Signal value')\n",
    "    plt.show()"
   ]
  },
  {
   "cell_type": "code",
   "execution_count": 3,
   "metadata": {},
   "outputs": [],
   "source": [
    "N = 256 # vector size\n",
    "K = 6 # sparsity\n",
    "Q = 80 # Number of cores\n",
    "M = 70 # Number of observations y\n",
    "\n",
    "\" From analytical developments, beware of the np.conj!!\"\n",
    "a_ij = (np.random.randn(M,Q)+1j*np.random.randn(M,Q))/np.sqrt(2)\n",
    "pos_cores = np.random.permutation(np.arange(N))[:Q] # random cores locations\n",
    "# pos_cores = np.round(np.arange(Q)*(N-1)/(Q-1)).astype(int) # regularly spaced cores locations\n",
    "beta = np.zeros((M,N), dtype=complex)\n",
    "beta[:, pos_cores] = a_ij\n",
    "beta2 = corr_circ(beta.conj()) # autocorrelations of beta"
   ]
  },
  {
   "cell_type": "code",
   "execution_count": 4,
   "metadata": {},
   "outputs": [],
   "source": [
    "bpalg = lambda A, b: spgl1.spg_bp(A, b, opt_tol=1e-7, bp_tol=1e-7)[0]\n",
    "bpdnalg = lambda A, b, sigma: spgl1.spg_bpdn(A, b, sigma)[0]\n",
    "lasso = lambda A, b, tau: spgl1.spg_lasso(A, b, tau)[0]"
   ]
  },
  {
   "cell_type": "markdown",
   "metadata": {},
   "source": [
    "# Sparse in the spatial domain\n",
    "\n",
    "$\n",
    "    \\begin{array}{ll}\n",
    "    \\boldsymbol{y} &= \\left\\{ (\\boldsymbol{\\beta}_m * \\overline{\\boldsymbol{\\beta}}_m)^\\top \\boldsymbol{F f} \\right\\}_{m=1}^M + \\boldsymbol{n} \\\\\n",
    "    &= \\boldsymbol{\\Beta Ff} + \\boldsymbol{n}\n",
    "    \\end{array} \n",
    "$\n",
    "\n",
    "where $*$ is the convolution operator, $\\Beta$ is a $M \\times N$ matrix whose lines are $\\left\\{ (\\boldsymbol{\\beta}_m * \\overline{\\boldsymbol{\\beta}}_m) \\right\\}_{m=1}^M$ and $\\boldsymbol{F}$ is the linear operator applying 1D Fourier transform. "
   ]
  },
  {
   "cell_type": "code",
   "execution_count": 5,
   "metadata": {},
   "outputs": [
    {
     "data": {
      "image/png": "[encoded data removed]",
      "text/plain": [
       "<Figure size 432x288 with 1 Axes>"
      ]
     },
     "metadata": {
      "needs_background": "light"
     },
     "output_type": "display_data"
    },
    {
     "name": "stdout",
     "output_type": "stream",
     "text": [
      "SNR: 67.10 dB\n",
      "SNR: 68.49 dB\n",
      "SNR: 51.12 dB\n"
     ]
    }
   ],
   "source": [
    "\"Define the sparse object\"\n",
    "f = np.zeros(N)\n",
    "indices = np.random.permutation(np.arange(N))[:K] \n",
    "f[indices[:-1]] = np.random.randn(K-1)\n",
    "f[indices[-1]] = -np.sum(f)\n",
    "\n",
    "A_corr = Autocorr_model(beta2, wt=None)\n",
    "y_corr = A_corr@f\n",
    "x_corr = bpalg(A_corr, y_corr)\n",
    "x_corr2 = bpdnalg(A_corr, y_corr,1e-10)\n",
    "x_corr_lasso = lasso(A_corr, y_corr, tau=np.linalg.norm(f,1))\n",
    "\n",
    "plotrec(f, x_corr)\n",
    "\n",
    "print('SNR: {:.2f} dB'.format(snr(f, x_corr)) )\n",
    "print('SNR: {:.2f} dB'.format(snr(f, x_corr2)) )\n",
    "print('SNR: {:.2f} dB'.format(snr(f, x_corr_lasso)) )"
   ]
  },
  {
   "cell_type": "markdown",
   "metadata": {},
   "source": [
    "# Sparse in Haar wavelets\n",
    "\n",
    "$\n",
    "    \\begin{array}{ll}\n",
    "    \\boldsymbol{y} &= \\left\\{ (\\boldsymbol{\\beta}_m * \\overline{\\boldsymbol{\\beta}}_m)^\\top \\boldsymbol{F f} \\right\\}_{m=1}^M + \\boldsymbol{n} \\\\\n",
    "    &= \\boldsymbol{\\Beta F \\Psi \\alpha} + \\boldsymbol{n}\n",
    "    \\end{array} \n",
    "$\n",
    "\n",
    "where $*$ is the convolution operator, $\\Beta$ is a $M \\times N$ matrix whose lines are $\\left\\{ (\\boldsymbol{\\beta}_m * \\overline{\\boldsymbol{\\beta}}_m) \\right\\}_{m=1}^M$, $\\boldsymbol{F}$ is the linear operator applying 1D Fourier transform and $\\boldsymbol{\\Psi}$ is the Haar Wavelet transform written in matrix format with the associated wavelet coefficients $\\boldsymbol{\\alpha}$. "
   ]
  },
  {
   "cell_type": "code",
   "execution_count": 6,
   "metadata": {},
   "outputs": [
    {
     "data": {
      "image/png": "[encoded data removed]",
      "text/plain": [
       "<Figure size 432x288 with 1 Axes>"
      ]
     },
     "metadata": {
      "needs_background": "light"
     },
     "output_type": "display_data"
    },
    {
     "name": "stdout",
     "output_type": "stream",
     "text": [
      "SNR: 158.61 dB\n",
      "SNR: 102.83 dB\n",
      "SNR: 73.73 dB\n"
     ]
    }
   ],
   "source": [
    "\"Define the sparse object\"\n",
    "alpha = np.zeros(N)\n",
    "indices = np.random.permutation(np.arange(N))[:K] \n",
    "alpha[indices[:-1]] = np.random.randn(K-1)\n",
    "alpha[indices[-1]] = -np.sum(alpha)\n",
    "\n",
    "A_corr = Autocorr_model(beta2, wt='haar')\n",
    "\n",
    "y_corr = A_corr@alpha\n",
    "x_corr = bpalg(A_corr, y_corr)\n",
    "x_corr2 = bpdnalg(A_corr, y_corr,1e-10)\n",
    "x_corr_lasso = lasso(A_corr, y_corr, tau=np.linalg.norm(alpha,1))\n",
    "\n",
    "f_corr = A_corr.wavT(x_corr)\n",
    "f_wav = A_corr.wavT(alpha)\n",
    "\n",
    "plotrec(f_wav, f_corr)\n",
    "\n",
    "print('SNR: {:.2f} dB'.format(snr(f_wav, f_corr)) )\n",
    "print('SNR: {:.2f} dB'.format(snr(f_wav, A_corr.wavT(x_corr2))) )\n",
    "print('SNR: {:.2f} dB'.format(snr(f_wav, A_corr.wavT(x_corr_lasso))) )"
   ]
  },
  {
   "cell_type": "markdown",
   "metadata": {},
   "source": [
    "# Sparse in TV - Piecewise constant\n",
    "\n",
    "Solve \n",
    "$\n",
    "    \\hat f = \\argmin_f~\\frac{1}{2} \\left\\lVert \\boldsymbol y - \\boldsymbol{\\Beta F f} \\right\\rVert_2^2 + \\lambda \\left\\lVert f \\right\\rVert_{\\text{TV}}\n",
    "$"
   ]
  },
  {
   "cell_type": "code",
   "execution_count": 10,
   "metadata": {},
   "outputs": [
    {
     "name": "stdout",
     "output_type": "stream",
     "text": [
      "Solution found after 5000 iterations:\n",
      "    objective function f(sol) = 3.381969e+01\n",
      "    stopping criterion: MAXIT\n"
     ]
    },
    {
     "data": {
      "image/png": "[encoded data removed]",
      "text/plain": [
       "<Figure size 432x288 with 1 Axes>"
      ]
     },
     "metadata": {
      "needs_background": "light"
     },
     "output_type": "display_data"
    },
    {
     "name": "stdout",
     "output_type": "stream",
     "text": [
      "SNR: 37.59 dB\n"
     ]
    }
   ],
   "source": [
    "\"Define the sparse object\"\n",
    "f = np.zeros(N)\n",
    "n_piece = 4\n",
    "maxrand = 30\n",
    "randvals = np.random.randint(maxrand, size=n_piece)\n",
    "cuts = np.sort((np.random.rand(n_piece-1)*N).astype(int))\n",
    "f[:cuts[0]] = randvals[0]\n",
    "f[cuts[-1]:] = randvals[-1]\n",
    "for i in range(n_piece-2):\n",
    "    f[cuts[i]:cuts[i+1]] = randvals[i+1]\n",
    "\n",
    "\"ROP model\"\n",
    "A_op = lambda xin: A_corr@xin\n",
    "At_op = lambda xin: A_corr.T@xin\n",
    "nu_rop1 = eval_nu(np.random.randn(N), A_op, At_op, nb_iter=50)*1.01\n",
    "\n",
    "y = A_op(f)\n",
    "\n",
    "f1 = functions.norm_tv(maxit=80, dim=1)\n",
    "f2 = functions.norm_l2(y=y, A=A_op, At=At_op, nu=nu_rop1)\n",
    "solver = solvers.forward_backward(step=0.5/nu_rop1)\n",
    "x0 = At_op(y)\n",
    "ret1 = solvers.solve([f1, f2], x0, solver, rtol=1e-7, maxit=5000)\n",
    "\n",
    "plotrec(f, ret1['sol'])\n",
    "\n",
    "print('SNR: {:.2f} dB'.format(snr(f, ret1['sol'])) )"
   ]
  }
 ],
 "metadata": {
  "interpreter": {
   "hash": "2c58dd59b1473525b9c2ce9ae8c4e1b85447983fecced33eb1cd38f3ca9c72e6"
  },
  "kernelspec": {
   "display_name": "Python 3.8.8 64-bit ('base': conda)",
   "name": "python3"
  },
  "language_info": {
   "codemirror_mode": {
    "name": "ipython",
    "version": 3
   },
   "file_extension": ".py",
   "mimetype": "text/x-python",
   "name": "python",
   "nbconvert_exporter": "python",
   "pygments_lexer": "ipython3",
   "version": "3.8.8"
  },
  "orig_nbformat": 4
 },
 "nbformat": 4,
 "nbformat_minor": 2
}
